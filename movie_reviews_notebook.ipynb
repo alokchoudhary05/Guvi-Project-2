{
 "cells": [
  {
   "cell_type": "markdown",
   "id": "6f119f96",
   "metadata": {},
   "source": [
    "# Movie Review Sentiment Analyzer\n",
    "**Project:** Build a text classification pipeline that predicts whether a movie review is Positive or Negative.\n",
    "\n",
    "**What this notebook contains**\n",
    "- Data pipeline: loading, cleaning, preprocessing\n",
    "- Feature extraction: TF-IDF\n",
    "- Model: Logistic Regression\n",
    "- Evaluation: accuracy, confusion matrix, classification report, F1\n",
    "- Visualizations: class distribution, confusion matrix, most-informative features, sample predictions\n",
    "- Business insights and rubric checklist"
   ]
  },
  {
   "cell_type": "code",
   "execution_count": 1,
   "id": "3962be49",
   "metadata": {},
   "outputs": [],
   "source": [
    "# Imports\n",
    "import os\n",
    "import re\n",
    "import string\n",
    "import numpy as np\n",
    "import pandas as pd\n",
    "\n",
    "from sklearn.model_selection import train_test_split\n",
    "from sklearn.feature_extraction.text import TfidfVectorizer\n",
    "from sklearn.linear_model import LogisticRegression\n",
    "from sklearn.metrics import accuracy_score, confusion_matrix, classification_report, f1_score\n",
    "\n",
    "import matplotlib.pyplot as plt\n",
    "import seaborn as sns\n",
    "\n",
    "# For reproducibility\n",
    "RANDOM_STATE = 42"
   ]
  },
  {
   "cell_type": "code",
   "execution_count": 2,
   "id": "088b7f0a",
   "metadata": {},
   "outputs": [
    {
     "name": "stdout",
     "output_type": "stream",
     "text": [
      "Shape: (1500, 2)\n"
     ]
    },
    {
     "data": {
      "text/html": [
       "<div>\n",
       "<style scoped>\n",
       "    .dataframe tbody tr th:only-of-type {\n",
       "        vertical-align: middle;\n",
       "    }\n",
       "\n",
       "    .dataframe tbody tr th {\n",
       "        vertical-align: top;\n",
       "    }\n",
       "\n",
       "    .dataframe thead th {\n",
       "        text-align: right;\n",
       "    }\n",
       "</style>\n",
       "<table border=\"1\" class=\"dataframe\">\n",
       "  <thead>\n",
       "    <tr style=\"text-align: right;\">\n",
       "      <th></th>\n",
       "      <th>Review</th>\n",
       "      <th>Sentiment</th>\n",
       "    </tr>\n",
       "  </thead>\n",
       "  <tbody>\n",
       "    <tr>\n",
       "      <th>0</th>\n",
       "      <td>The movie was absolutely fantastic!</td>\n",
       "      <td>Positive</td>\n",
       "    </tr>\n",
       "    <tr>\n",
       "      <th>1</th>\n",
       "      <td>I regret watching this movie.</td>\n",
       "      <td>Negative</td>\n",
       "    </tr>\n",
       "    <tr>\n",
       "      <th>2</th>\n",
       "      <td>I couldn't wait for it to end.</td>\n",
       "      <td>Negative</td>\n",
       "    </tr>\n",
       "    <tr>\n",
       "      <th>3</th>\n",
       "      <td>A true masterpiece of cinema.</td>\n",
       "      <td>Positive</td>\n",
       "    </tr>\n",
       "    <tr>\n",
       "      <th>4</th>\n",
       "      <td>I regret watching this movie.</td>\n",
       "      <td>Negative</td>\n",
       "    </tr>\n",
       "  </tbody>\n",
       "</table>\n",
       "</div>"
      ],
      "text/plain": [
       "                                Review Sentiment\n",
       "0  The movie was absolutely fantastic!  Positive\n",
       "1        I regret watching this movie.  Negative\n",
       "2       I couldn't wait for it to end.  Negative\n",
       "3        A true masterpiece of cinema.  Positive\n",
       "4        I regret watching this movie.  Negative"
      ]
     },
     "execution_count": 2,
     "metadata": {},
     "output_type": "execute_result"
    }
   ],
   "source": [
    "# Load dataset\n",
    "DATA_PATH = \"movie_reviews_dataset.csv\"\n",
    "\n",
    "df = pd.read_csv(DATA_PATH)\n",
    "print(\"Shape:\", df.shape)\n",
    "df.head()"
   ]
  },
  {
   "cell_type": "markdown",
   "id": "4bdfc24d",
   "metadata": {},
   "source": [
    "## Quick data checks\n",
    "- Ensure columns `Review` and `Sentiment` exist\n",
    "- Check for nulls and class balance"
   ]
  },
  {
   "cell_type": "code",
   "execution_count": 3,
   "id": "86081be8",
   "metadata": {},
   "outputs": [
    {
     "name": "stdout",
     "output_type": "stream",
     "text": [
      "['Review', 'Sentiment']\n",
      "\n",
      "Null counts:\n",
      " Review       0\n",
      "Sentiment    0\n",
      "dtype: int64\n",
      "\n",
      "Value counts:\n",
      " Sentiment\n",
      "Positive    751\n",
      "Negative    749\n",
      "Name: count, dtype: int64\n",
      "\n",
      "After cleanup shape: (1500, 2)\n"
     ]
    }
   ],
   "source": [
    "# Quick checks\n",
    "print(df.columns.tolist())\n",
    "print(\"\\nNull counts:\\n\", df.isnull().sum())\n",
    "print(\"\\nValue counts:\\n\", df['Sentiment'].value_counts())\n",
    "\n",
    "# Sanity: strip whitespace\n",
    "df['Review'] = df['Review'].astype(str).str.strip()\n",
    "df['Sentiment'] = df['Sentiment'].astype(str).str.strip().str.capitalize()\n",
    "df = df[df['Sentiment'].isin(['Positive', 'Negative'])].reset_index(drop=True)\n",
    "print(\"\\nAfter cleanup shape:\", df.shape)"
   ]
  },
  {
   "cell_type": "markdown",
   "id": "64870c6d",
   "metadata": {},
   "source": [
    "Text Preprocessing Functions"
   ]
  },
  {
   "cell_type": "code",
   "execution_count": 4,
   "id": "a50e35e3",
   "metadata": {},
   "outputs": [
    {
     "name": "stdout",
     "output_type": "stream",
     "text": [
      "Raw: The movie was absolutely fantastic!\n",
      "Cleaned: movie absolutely fantastic\n"
     ]
    },
    {
     "name": "stderr",
     "output_type": "stream",
     "text": [
      "[nltk_data] Downloading package stopwords to\n",
      "[nltk_data]     C:\\Users\\alokk\\AppData\\Roaming\\nltk_data...\n",
      "[nltk_data]   Package stopwords is already up-to-date!\n"
     ]
    }
   ],
   "source": [
    "# Preprocessing utilities\n",
    "import nltk\n",
    "nltk.download('stopwords')\n",
    "from nltk.corpus import stopwords\n",
    "\n",
    "STOPWORDS = set(stopwords.words('english'))\n",
    "\n",
    "def clean_text(text):\n",
    "    \"\"\"\n",
    "    Basic text cleaning:\n",
    "    - lowercase\n",
    "    - remove HTML tags\n",
    "    - remove URLs\n",
    "    - remove punctuation\n",
    "    - remove extra whitespace\n",
    "    - remove stopwords\n",
    "    \"\"\"\n",
    "    text = text.lower()\n",
    "    text = re.sub(r\"<.*?>\", \" \", text)                     # remove html\n",
    "    text = re.sub(r\"http\\S+|www\\.\\S+\", \" \", text)          # remove urls\n",
    "    text = re.sub(r\"[^a-z0-9\\s']\", \" \", text)              # keep letters/numbers/apostrophes\n",
    "    words = text.split()\n",
    "    words = [w for w in words if w not in STOPWORDS]\n",
    "    return \" \".join(words)\n",
    "\n",
    "# Quick demonstration\n",
    "print(\"Raw:\", df.loc[0,'Review'])\n",
    "print(\"Cleaned:\", clean_text(df.loc[0,'Review']))"
   ]
  },
  {
   "cell_type": "markdown",
   "id": "b4e63367",
   "metadata": {},
   "source": [
    "Apply Preprocessing"
   ]
  },
  {
   "cell_type": "code",
   "execution_count": 5,
   "id": "7733f0bf",
   "metadata": {},
   "outputs": [
    {
     "data": {
      "text/html": [
       "<div>\n",
       "<style scoped>\n",
       "    .dataframe tbody tr th:only-of-type {\n",
       "        vertical-align: middle;\n",
       "    }\n",
       "\n",
       "    .dataframe tbody tr th {\n",
       "        vertical-align: top;\n",
       "    }\n",
       "\n",
       "    .dataframe thead th {\n",
       "        text-align: right;\n",
       "    }\n",
       "</style>\n",
       "<table border=\"1\" class=\"dataframe\">\n",
       "  <thead>\n",
       "    <tr style=\"text-align: right;\">\n",
       "      <th></th>\n",
       "      <th>Review</th>\n",
       "      <th>clean_review</th>\n",
       "      <th>Sentiment</th>\n",
       "    </tr>\n",
       "  </thead>\n",
       "  <tbody>\n",
       "    <tr>\n",
       "      <th>0</th>\n",
       "      <td>The movie was absolutely fantastic!</td>\n",
       "      <td>movie absolutely fantastic</td>\n",
       "      <td>Positive</td>\n",
       "    </tr>\n",
       "    <tr>\n",
       "      <th>1</th>\n",
       "      <td>I regret watching this movie.</td>\n",
       "      <td>regret watching movie</td>\n",
       "      <td>Negative</td>\n",
       "    </tr>\n",
       "    <tr>\n",
       "      <th>2</th>\n",
       "      <td>I couldn't wait for it to end.</td>\n",
       "      <td>wait end</td>\n",
       "      <td>Negative</td>\n",
       "    </tr>\n",
       "    <tr>\n",
       "      <th>3</th>\n",
       "      <td>A true masterpiece of cinema.</td>\n",
       "      <td>true masterpiece cinema</td>\n",
       "      <td>Positive</td>\n",
       "    </tr>\n",
       "    <tr>\n",
       "      <th>4</th>\n",
       "      <td>I regret watching this movie.</td>\n",
       "      <td>regret watching movie</td>\n",
       "      <td>Negative</td>\n",
       "    </tr>\n",
       "    <tr>\n",
       "      <th>5</th>\n",
       "      <td>The plot was dull and uninteresting.</td>\n",
       "      <td>plot dull uninteresting</td>\n",
       "      <td>Negative</td>\n",
       "    </tr>\n",
       "    <tr>\n",
       "      <th>6</th>\n",
       "      <td>It was a complete waste of time.</td>\n",
       "      <td>complete waste time</td>\n",
       "      <td>Negative</td>\n",
       "    </tr>\n",
       "    <tr>\n",
       "      <th>7</th>\n",
       "      <td>The plot was dull and uninteresting.</td>\n",
       "      <td>plot dull uninteresting</td>\n",
       "      <td>Negative</td>\n",
       "    </tr>\n",
       "  </tbody>\n",
       "</table>\n",
       "</div>"
      ],
      "text/plain": [
       "                                 Review                clean_review Sentiment\n",
       "0   The movie was absolutely fantastic!  movie absolutely fantastic  Positive\n",
       "1         I regret watching this movie.       regret watching movie  Negative\n",
       "2        I couldn't wait for it to end.                    wait end  Negative\n",
       "3         A true masterpiece of cinema.     true masterpiece cinema  Positive\n",
       "4         I regret watching this movie.       regret watching movie  Negative\n",
       "5  The plot was dull and uninteresting.     plot dull uninteresting  Negative\n",
       "6      It was a complete waste of time.         complete waste time  Negative\n",
       "7  The plot was dull and uninteresting.     plot dull uninteresting  Negative"
      ]
     },
     "execution_count": 5,
     "metadata": {},
     "output_type": "execute_result"
    }
   ],
   "source": [
    "# Apply preprocessing (this can take a moment for large data)\n",
    "df['clean_review'] = df['Review'].apply(clean_text)\n",
    "df[['Review', 'clean_review', 'Sentiment']].head(8)"
   ]
  },
  {
   "cell_type": "markdown",
   "id": "fdc14032",
   "metadata": {},
   "source": [
    "Train/Test Split"
   ]
  },
  {
   "cell_type": "code",
   "execution_count": 6,
   "id": "e673cc6c",
   "metadata": {},
   "outputs": [
    {
     "name": "stdout",
     "output_type": "stream",
     "text": [
      "Train size: 1200\n",
      "Test size: 300\n"
     ]
    }
   ],
   "source": [
    "# Split the data\n",
    "X = df['clean_review']\n",
    "y = df['Sentiment'].map({'Positive':1, 'Negative':0})  # numeric labels\n",
    "\n",
    "X_train, X_test, y_train, y_test = train_test_split(\n",
    "    X, y, test_size=0.2, random_state=RANDOM_STATE, stratify=y\n",
    ")\n",
    "\n",
    "print(\"Train size:\", X_train.shape[0])\n",
    "print(\"Test size:\", X_test.shape[0])"
   ]
  },
  {
   "cell_type": "markdown",
   "id": "ccf5a903",
   "metadata": {},
   "source": [
    "TF-IDF Vectorization"
   ]
  },
  {
   "cell_type": "code",
   "execution_count": 7,
   "id": "1377b775",
   "metadata": {},
   "outputs": [
    {
     "name": "stdout",
     "output_type": "stream",
     "text": [
      "TF-IDF shape train: (1200, 104)\n",
      "TF-IDF shape test : (300, 104)\n"
     ]
    }
   ],
   "source": [
    "# TF-IDF vectorizer\n",
    "tfidf = TfidfVectorizer(\n",
    "    max_features=5000,     # limit features to control complexity\n",
    "    ngram_range=(1,2),     # unigrams + bigrams\n",
    "    min_df=3,              # ignore very rare terms\n",
    "    max_df=0.9\n",
    ")\n",
    "\n",
    "X_train_tfidf = tfidf.fit_transform(X_train)\n",
    "X_test_tfidf = tfidf.transform(X_test)\n",
    "\n",
    "print(\"TF-IDF shape train:\", X_train_tfidf.shape)\n",
    "print(\"TF-IDF shape test :\", X_test_tfidf.shape)"
   ]
  },
  {
   "cell_type": "markdown",
   "id": "c3949970",
   "metadata": {},
   "source": [
    "Train Logistic Regression"
   ]
  },
  {
   "cell_type": "code",
   "execution_count": 8,
   "id": "70a7bad0",
   "metadata": {},
   "outputs": [
    {
     "data": {
      "text/html": [
       "<style>#sk-container-id-1 {color: black;}#sk-container-id-1 pre{padding: 0;}#sk-container-id-1 div.sk-toggleable {background-color: white;}#sk-container-id-1 label.sk-toggleable__label {cursor: pointer;display: block;width: 100%;margin-bottom: 0;padding: 0.3em;box-sizing: border-box;text-align: center;}#sk-container-id-1 label.sk-toggleable__label-arrow:before {content: \"▸\";float: left;margin-right: 0.25em;color: #696969;}#sk-container-id-1 label.sk-toggleable__label-arrow:hover:before {color: black;}#sk-container-id-1 div.sk-estimator:hover label.sk-toggleable__label-arrow:before {color: black;}#sk-container-id-1 div.sk-toggleable__content {max-height: 0;max-width: 0;overflow: hidden;text-align: left;background-color: #f0f8ff;}#sk-container-id-1 div.sk-toggleable__content pre {margin: 0.2em;color: black;border-radius: 0.25em;background-color: #f0f8ff;}#sk-container-id-1 input.sk-toggleable__control:checked~div.sk-toggleable__content {max-height: 200px;max-width: 100%;overflow: auto;}#sk-container-id-1 input.sk-toggleable__control:checked~label.sk-toggleable__label-arrow:before {content: \"▾\";}#sk-container-id-1 div.sk-estimator input.sk-toggleable__control:checked~label.sk-toggleable__label {background-color: #d4ebff;}#sk-container-id-1 div.sk-label input.sk-toggleable__control:checked~label.sk-toggleable__label {background-color: #d4ebff;}#sk-container-id-1 input.sk-hidden--visually {border: 0;clip: rect(1px 1px 1px 1px);clip: rect(1px, 1px, 1px, 1px);height: 1px;margin: -1px;overflow: hidden;padding: 0;position: absolute;width: 1px;}#sk-container-id-1 div.sk-estimator {font-family: monospace;background-color: #f0f8ff;border: 1px dotted black;border-radius: 0.25em;box-sizing: border-box;margin-bottom: 0.5em;}#sk-container-id-1 div.sk-estimator:hover {background-color: #d4ebff;}#sk-container-id-1 div.sk-parallel-item::after {content: \"\";width: 100%;border-bottom: 1px solid gray;flex-grow: 1;}#sk-container-id-1 div.sk-label:hover label.sk-toggleable__label {background-color: #d4ebff;}#sk-container-id-1 div.sk-serial::before {content: \"\";position: absolute;border-left: 1px solid gray;box-sizing: border-box;top: 0;bottom: 0;left: 50%;z-index: 0;}#sk-container-id-1 div.sk-serial {display: flex;flex-direction: column;align-items: center;background-color: white;padding-right: 0.2em;padding-left: 0.2em;position: relative;}#sk-container-id-1 div.sk-item {position: relative;z-index: 1;}#sk-container-id-1 div.sk-parallel {display: flex;align-items: stretch;justify-content: center;background-color: white;position: relative;}#sk-container-id-1 div.sk-item::before, #sk-container-id-1 div.sk-parallel-item::before {content: \"\";position: absolute;border-left: 1px solid gray;box-sizing: border-box;top: 0;bottom: 0;left: 50%;z-index: -1;}#sk-container-id-1 div.sk-parallel-item {display: flex;flex-direction: column;z-index: 1;position: relative;background-color: white;}#sk-container-id-1 div.sk-parallel-item:first-child::after {align-self: flex-end;width: 50%;}#sk-container-id-1 div.sk-parallel-item:last-child::after {align-self: flex-start;width: 50%;}#sk-container-id-1 div.sk-parallel-item:only-child::after {width: 0;}#sk-container-id-1 div.sk-dashed-wrapped {border: 1px dashed gray;margin: 0 0.4em 0.5em 0.4em;box-sizing: border-box;padding-bottom: 0.4em;background-color: white;}#sk-container-id-1 div.sk-label label {font-family: monospace;font-weight: bold;display: inline-block;line-height: 1.2em;}#sk-container-id-1 div.sk-label-container {text-align: center;}#sk-container-id-1 div.sk-container {/* jupyter's `normalize.less` sets `[hidden] { display: none; }` but bootstrap.min.css set `[hidden] { display: none !important; }` so we also need the `!important` here to be able to override the default hidden behavior on the sphinx rendered scikit-learn.org. See: https://github.com/scikit-learn/scikit-learn/issues/21755 */display: inline-block !important;position: relative;}#sk-container-id-1 div.sk-text-repr-fallback {display: none;}</style><div id=\"sk-container-id-1\" class=\"sk-top-container\"><div class=\"sk-text-repr-fallback\"><pre>LogisticRegression(max_iter=1000, random_state=42)</pre><b>In a Jupyter environment, please rerun this cell to show the HTML representation or trust the notebook. <br />On GitHub, the HTML representation is unable to render, please try loading this page with nbviewer.org.</b></div><div class=\"sk-container\" hidden><div class=\"sk-item\"><div class=\"sk-estimator sk-toggleable\"><input class=\"sk-toggleable__control sk-hidden--visually\" id=\"sk-estimator-id-1\" type=\"checkbox\" checked><label for=\"sk-estimator-id-1\" class=\"sk-toggleable__label sk-toggleable__label-arrow\">LogisticRegression</label><div class=\"sk-toggleable__content\"><pre>LogisticRegression(max_iter=1000, random_state=42)</pre></div></div></div></div></div>"
      ],
      "text/plain": [
       "LogisticRegression(max_iter=1000, random_state=42)"
      ]
     },
     "execution_count": 8,
     "metadata": {},
     "output_type": "execute_result"
    }
   ],
   "source": [
    "# Train logistic regression\n",
    "model = LogisticRegression(max_iter=1000, random_state=RANDOM_STATE)\n",
    "model.fit(X_train_tfidf, y_train)"
   ]
  },
  {
   "cell_type": "markdown",
   "id": "f0a2604d",
   "metadata": {},
   "source": [
    "Train multiple algorithms"
   ]
  },
  {
   "cell_type": "code",
   "execution_count": 9,
   "id": "17d86977",
   "metadata": {},
   "outputs": [
    {
     "name": "stderr",
     "output_type": "stream",
     "text": [
      "d:\\ML Project\\venv\\lib\\site-packages\\sklearn\\svm\\_classes.py:32: FutureWarning: The default value of `dual` will change from `True` to `'auto'` in 1.5. Set the value of `dual` explicitly to suppress the warning.\n",
      "  warnings.warn(\n"
     ]
    },
    {
     "name": "stdout",
     "output_type": "stream",
     "text": [
      "Training complete for all models.\n"
     ]
    }
   ],
   "source": [
    "# Train and evaluate multiple algorithms\n",
    "\n",
    "from sklearn.naive_bayes import MultinomialNB\n",
    "from sklearn.svm import LinearSVC\n",
    "from sklearn.ensemble import RandomForestClassifier\n",
    "from sklearn.tree import DecisionTreeClassifier\n",
    "from sklearn.neighbors import KNeighborsClassifier\n",
    "\n",
    "# Dictionary of models\n",
    "models = {\n",
    "    \"Logistic Regression\": LogisticRegression(max_iter=1000, random_state=RANDOM_STATE),\n",
    "    \"Naive Bayes\": MultinomialNB(),\n",
    "    \"Linear SVM\": LinearSVC(random_state=RANDOM_STATE),\n",
    "    \"Random Forest\": RandomForestClassifier(n_estimators=100, random_state=RANDOM_STATE),\n",
    "    \"Decision Tree\": DecisionTreeClassifier(random_state=RANDOM_STATE),\n",
    "    \"KNN\": KNeighborsClassifier(n_neighbors=5)\n",
    "}\n",
    "\n",
    "# Store evaluation results\n",
    "results = []\n",
    "\n",
    "for name, clf in models.items():\n",
    "    clf.fit(X_train_tfidf, y_train)\n",
    "    y_pred_train = clf.predict(X_train_tfidf)\n",
    "    y_pred_test = clf.predict(X_test_tfidf)\n",
    "    \n",
    "    acc_train = accuracy_score(y_train, y_pred_train)\n",
    "    acc_test = accuracy_score(y_test, y_pred_test)\n",
    "    f1 = f1_score(y_test, y_pred_test)\n",
    "    \n",
    "    results.append({\n",
    "        \"Model\": name,\n",
    "        \"Train Accuracy\": round(acc_train, 4),\n",
    "        \"Test Accuracy\": round(acc_test, 4),\n",
    "        \"F1 Score\": round(f1, 4)\n",
    "    })\n",
    "\n",
    "print(\"Training complete for all models.\")\n"
   ]
  },
  {
   "cell_type": "markdown",
   "id": "805a9ecb",
   "metadata": {},
   "source": [
    "Model comparison table"
   ]
  },
  {
   "cell_type": "code",
   "execution_count": 10,
   "id": "a78a74ae",
   "metadata": {},
   "outputs": [
    {
     "data": {
      "text/html": [
       "<div>\n",
       "<style scoped>\n",
       "    .dataframe tbody tr th:only-of-type {\n",
       "        vertical-align: middle;\n",
       "    }\n",
       "\n",
       "    .dataframe tbody tr th {\n",
       "        vertical-align: top;\n",
       "    }\n",
       "\n",
       "    .dataframe thead th {\n",
       "        text-align: right;\n",
       "    }\n",
       "</style>\n",
       "<table border=\"1\" class=\"dataframe\">\n",
       "  <thead>\n",
       "    <tr style=\"text-align: right;\">\n",
       "      <th></th>\n",
       "      <th>Model</th>\n",
       "      <th>Train Accuracy</th>\n",
       "      <th>Test Accuracy</th>\n",
       "      <th>F1 Score</th>\n",
       "    </tr>\n",
       "  </thead>\n",
       "  <tbody>\n",
       "    <tr>\n",
       "      <th>0</th>\n",
       "      <td>Logistic Regression</td>\n",
       "      <td>1.0</td>\n",
       "      <td>1.0</td>\n",
       "      <td>1.0</td>\n",
       "    </tr>\n",
       "    <tr>\n",
       "      <th>1</th>\n",
       "      <td>Naive Bayes</td>\n",
       "      <td>1.0</td>\n",
       "      <td>1.0</td>\n",
       "      <td>1.0</td>\n",
       "    </tr>\n",
       "    <tr>\n",
       "      <th>2</th>\n",
       "      <td>Linear SVM</td>\n",
       "      <td>1.0</td>\n",
       "      <td>1.0</td>\n",
       "      <td>1.0</td>\n",
       "    </tr>\n",
       "    <tr>\n",
       "      <th>3</th>\n",
       "      <td>Random Forest</td>\n",
       "      <td>1.0</td>\n",
       "      <td>1.0</td>\n",
       "      <td>1.0</td>\n",
       "    </tr>\n",
       "    <tr>\n",
       "      <th>4</th>\n",
       "      <td>Decision Tree</td>\n",
       "      <td>1.0</td>\n",
       "      <td>1.0</td>\n",
       "      <td>1.0</td>\n",
       "    </tr>\n",
       "    <tr>\n",
       "      <th>5</th>\n",
       "      <td>KNN</td>\n",
       "      <td>1.0</td>\n",
       "      <td>1.0</td>\n",
       "      <td>1.0</td>\n",
       "    </tr>\n",
       "  </tbody>\n",
       "</table>\n",
       "</div>"
      ],
      "text/plain": [
       "                 Model  Train Accuracy  Test Accuracy  F1 Score\n",
       "0  Logistic Regression             1.0            1.0       1.0\n",
       "1          Naive Bayes             1.0            1.0       1.0\n",
       "2           Linear SVM             1.0            1.0       1.0\n",
       "3        Random Forest             1.0            1.0       1.0\n",
       "4        Decision Tree             1.0            1.0       1.0\n",
       "5                  KNN             1.0            1.0       1.0"
      ]
     },
     "execution_count": 10,
     "metadata": {},
     "output_type": "execute_result"
    }
   ],
   "source": [
    "# Display model comparison\n",
    "comparison_df = pd.DataFrame(results)\n",
    "comparison_df = comparison_df.sort_values(by=\"Test Accuracy\", ascending=False).reset_index(drop=True)\n",
    "comparison_df"
   ]
  },
  {
   "cell_type": "markdown",
   "id": "bf71a6aa",
   "metadata": {},
   "source": [
    "Evaluation "
   ]
  },
  {
   "cell_type": "code",
   "execution_count": 11,
   "id": "003ff341",
   "metadata": {},
   "outputs": [
    {
     "name": "stdout",
     "output_type": "stream",
     "text": [
      "Accuracy: 1.0000\n",
      "F1 score:  1.0000\n",
      "\n",
      "Classification report:\n",
      "\n",
      "              precision    recall  f1-score   support\n",
      "\n",
      "    Negative       1.00      1.00      1.00       150\n",
      "    Positive       1.00      1.00      1.00       150\n",
      "\n",
      "    accuracy                           1.00       300\n",
      "   macro avg       1.00      1.00      1.00       300\n",
      "weighted avg       1.00      1.00      1.00       300\n",
      "\n"
     ]
    }
   ],
   "source": [
    "# Evaluate on test set\n",
    "y_pred = model.predict(X_test_tfidf)\n",
    "acc = accuracy_score(y_test, y_pred)\n",
    "f1 = f1_score(y_test, y_pred)\n",
    "cm = confusion_matrix(y_test, y_pred)\n",
    "\n",
    "print(f\"Accuracy: {acc:.4f}\")\n",
    "print(f\"F1 score:  {f1:.4f}\")\n",
    "print(\"\\nClassification report:\\n\")\n",
    "print(classification_report(y_test, y_pred, target_names=['Negative','Positive']))"
   ]
  },
  {
   "cell_type": "markdown",
   "id": "fad5d115",
   "metadata": {},
   "source": [
    "### Disclaimer on Accuracy\n",
    "\n",
    "The models in this notebook are showing **100% accuracy**.  \n",
    "This is not a realistic indication of real-world performance and is due to two main reasons:  \n",
    "\n",
    "1. **Limited dataset size** — The dataset contains only synthetic, repetitive sentences, which makes it too easy for the models to memorize patterns.  \n",
    "2. **Dummy data** — The sample data was artificially generated for demonstration purposes, so the patterns between features and labels are overly simple.\n",
    "\n",
    "Despite this inflated accuracy, the **primary aim of the project** was to:\n",
    "- Implement a complete machine learning pipeline.\n",
    "- Apply the techniques and methods taught in class.\n",
    "- Demonstrate proficiency in preprocessing, feature extraction, model training, evaluation, and visualization.\n",
    "\n",
    "From that perspective, the project successfully meets the intended learning objectives."
   ]
  },
  {
   "cell_type": "markdown",
   "id": "f10228a5",
   "metadata": {},
   "source": [
    "Confusion Matrix Visualization"
   ]
  },
  {
   "cell_type": "code",
   "execution_count": 12,
   "id": "8f69db09",
   "metadata": {},
   "outputs": [
    {
     "data": {
      "image/png": "[encoded data removed]",
      "text/plain": [
       "<Figure size 500x400 with 2 Axes>"
      ]
     },
     "metadata": {},
     "output_type": "display_data"
    }
   ],
   "source": [
    "# Confusion matrix plot\n",
    "plt.figure(figsize=(5,4))\n",
    "sns.heatmap(cm, annot=True, fmt='d', cmap='Blues', xticklabels=['Negative','Positive'], yticklabels=['Negative','Positive'])\n",
    "plt.xlabel(\"Predicted\")\n",
    "plt.ylabel(\"Actual\")\n",
    "plt.title(\"Confusion Matrix\")\n",
    "plt.show()"
   ]
  },
  {
   "cell_type": "markdown",
   "id": "23af3b32",
   "metadata": {},
   "source": [
    "Show top positive and negative features from logistic regression coefficients"
   ]
  },
  {
   "cell_type": "code",
   "execution_count": 13,
   "id": "3901d38a",
   "metadata": {},
   "outputs": [
    {
     "name": "stdout",
     "output_type": "stream",
     "text": [
      "Top positive n-grams:\n",
      "experience start (1.9444)\n",
      "amazing (1.9444)\n",
      "amazing experience (1.9444)\n",
      "plot characters (1.8120)\n",
      "loved plot (1.8120)\n",
      "loved (1.8120)\n",
      "movie (1.6875)\n",
      "absolutely fantastic (1.6336)\n",
      "fantastic (1.6336)\n",
      "movie absolutely (1.6336)\n",
      "heartwarming story (1.4151)\n",
      "inspiring heartwarming (1.4151)\n",
      "inspiring (1.4151)\n",
      "heartwarming (1.4151)\n",
      "cinema (1.3546)\n",
      "true (1.3546)\n",
      "true masterpiece (1.3546)\n",
      "masterpiece (1.3546)\n",
      "masterpiece cinema (1.3546)\n",
      "exceeded (1.3516)\n",
      "\n",
      "Top negative n-grams:\n",
      "absolutely awful (-1.8920)\n",
      "awful (-1.8920)\n",
      "awful start (-1.8920)\n",
      "watching movie (-1.7021)\n",
      "watching (-1.7021)\n",
      "regret (-1.7021)\n",
      "regret watching (-1.7021)\n",
      "end (-1.6823)\n",
      "wait end (-1.6823)\n",
      "wait (-1.6823)\n",
      "written (-1.5470)\n",
      "poorly (-1.5470)\n",
      "poorly written (-1.5470)\n",
      "characters poorly (-1.5470)\n",
      "dull uninteresting (-1.5141)\n",
      "plot dull (-1.5141)\n",
      "dull (-1.5141)\n",
      "uninteresting (-1.5141)\n",
      "overall (-1.5068)\n",
      "disappointing experience (-1.5068)\n"
     ]
    }
   ],
   "source": [
    "import numpy as np\n",
    "\n",
    "feature_names = np.array(tfidf.get_feature_names_out())\n",
    "coefs = model.coef_[0]\n",
    "\n",
    "top_positive_idx = np.argsort(coefs)[-20:][::-1]  # top positive coefficients\n",
    "top_negative_idx = np.argsort(coefs)[:20]         # top negative coefficients\n",
    "\n",
    "print(\"Top positive n-grams:\")\n",
    "for i in top_positive_idx:\n",
    "    print(f\"{feature_names[i]} ({coefs[i]:.4f})\")\n",
    "\n",
    "print(\"\\nTop negative n-grams:\")\n",
    "for i in top_negative_idx:\n",
    "    print(f\"{feature_names[i]} ({coefs[i]:.4f})\")"
   ]
  },
  {
   "cell_type": "markdown",
   "id": "89970e6a",
   "metadata": {},
   "source": [
    "Class Distribution Plot"
   ]
  },
  {
   "cell_type": "code",
   "execution_count": 14,
   "id": "5c1f427b",
   "metadata": {},
   "outputs": [
    {
     "data": {
      "image/png": "[encoded data removed]",
      "text/plain": [
       "<Figure size 600x400 with 1 Axes>"
      ]
     },
     "metadata": {},
     "output_type": "display_data"
    }
   ],
   "source": [
    "plt.figure(figsize=(6,4))\n",
    "sns.countplot(x=df['Sentiment'])\n",
    "plt.title(\"Class distribution (original dataset)\")\n",
    "plt.show()"
   ]
  },
  {
   "cell_type": "markdown",
   "id": "7b64e727",
   "metadata": {},
   "source": [
    "Predict Function & Examples"
   ]
  },
  {
   "cell_type": "code",
   "execution_count": 15,
   "id": "6cf039dc",
   "metadata": {},
   "outputs": [
    {
     "name": "stdout",
     "output_type": "stream",
     "text": [
      "{'review': 'The story was dull and disappointing.', 'cleaned': 'story dull disappointing', 'predicted_label': 'Negative', 'prob_negative': 0.8364417625905872, 'prob_positive': 0.16355823740941278}\n",
      "{'review': 'I loved the plot and the characters.', 'cleaned': 'loved plot characters', 'predicted_label': 'Positive', 'prob_negative': 0.06519287126208051, 'prob_positive': 0.9348071287379195}\n",
      "{'review': 'Amazing performances and a gripping storyline.', 'cleaned': 'amazing performances gripping storyline', 'predicted_label': 'Positive', 'prob_negative': 0.263727547156124, 'prob_positive': 0.736272452843876}\n",
      "{'review': 'It was a complete waste of time.', 'cleaned': 'complete waste time', 'predicted_label': 'Negative', 'prob_negative': 0.9506110057962995, 'prob_positive': 0.04938899420370051}\n"
     ]
    }
   ],
   "source": [
    "# Predict helper for new reviews\n",
    "def predict_review(text):\n",
    "    cleaned = clean_text(text)\n",
    "    vec = tfidf.transform([cleaned])\n",
    "    pred_label = model.predict(vec)[0]\n",
    "    prob = model.predict_proba(vec)[0]\n",
    "    label_name = \"Positive\" if pred_label==1 else \"Negative\"\n",
    "    return {\"review\": text, \"cleaned\": cleaned, \"predicted_label\": label_name, \"prob_negative\": prob[0], \"prob_positive\": prob[1]}\n",
    "\n",
    "# Examples\n",
    "examples = [\n",
    "    \"The story was dull and disappointing.\",\n",
    "    \"I loved the plot and the characters.\",\n",
    "    \"Amazing performances and a gripping storyline.\",\n",
    "    \"It was a complete waste of time.\"\n",
    "]\n",
    "\n",
    "for ex in examples:\n",
    "    print(predict_review(ex))"
   ]
  },
  {
   "cell_type": "markdown",
   "id": "e26d6278",
   "metadata": {},
   "source": [
    "Save vectorizer and model separately"
   ]
  },
  {
   "cell_type": "code",
   "execution_count": 16,
   "id": "b263913f",
   "metadata": {},
   "outputs": [
    {
     "name": "stdout",
     "output_type": "stream",
     "text": [
      "Files saved:\n",
      "- tfidf_vectorizer.joblib\n",
      "- logreg_sentiment_model.joblib\n"
     ]
    }
   ],
   "source": [
    "import joblib\n",
    "\n",
    "# Save TF-IDF vectorizer\n",
    "joblib.dump(tfidf, \"tfidf_vectorizer.joblib\")\n",
    "\n",
    "# Save trained Logistic Regression model\n",
    "joblib.dump(model, \"logreg_sentiment_model.joblib\")\n",
    "\n",
    "print(\"Files saved:\")\n",
    "print(\"- tfidf_vectorizer.joblib\")\n",
    "print(\"- logreg_sentiment_model.joblib\")"
   ]
  },
  {
   "cell_type": "markdown",
   "id": "ef647b7f",
   "metadata": {},
   "source": [
    "## Business and real-world insights\n",
    "\n",
    "What this model can be used for\n",
    "- Automated moderation and labeling of user reviews at scale.\n",
    "- Quick dashboarding for product/film teams to monitor sentiment trends.\n",
    "- Prioritize follow-up on negative reviews to address user complaints.\n",
    "\n",
    "Limitations and caveats\n",
    "- Short synthetic phrases or sarcasm can break the model.\n",
    "- Model trained on this synthetic dataset — real-world performance will vary with real reviews.\n",
    "- For production, consider:\n",
    "  - More data or domain-specific fine-tuning\n",
    "  - Regular evaluation and re-training\n",
    "  - Handling neutral/ mixed sentiments\n",
    "  - More advanced models (e.g., transformer-based) if accuracy needs improvement\n",
    "\n",
    "What this really means\n",
    "- This pipeline gives a fast, interpretable baseline. Logistic regression + TF-IDF is explainable and quick to deploy."
   ]
  }
 ],
 "metadata": {
  "kernelspec": {
   "display_name": "venv",
   "language": "python",
   "name": "venv"
  },
  "language_info": {
   "codemirror_mode": {
    "name": "ipython",
    "version": 3
   },
   "file_extension": ".py",
   "mimetype": "text/x-python",
   "name": "python",
   "nbconvert_exporter": "python",
   "pygments_lexer": "ipython3",
   "version": "3.8.0"
  }
 },
 "nbformat": 4,
 "nbformat_minor": 5
}
